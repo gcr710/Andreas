{
 "cells": [
  {
   "cell_type": "markdown",
   "metadata": {},
   "source": [
    "# First assignment - Andreas Samberg"
   ]
  },
  {
   "cell_type": "markdown",
   "metadata": {},
   "source": [
    "Imports and set magics:"
   ]
  },
  {
   "cell_type": "code",
   "execution_count": 47,
   "metadata": {},
   "outputs": [],
   "source": [
    "import numpy as np\n",
    "import pandas as pd\n",
    "import matplotlib.pyplot as plt\n",
    "\n",
    "colors = plt.rcParams['axes.prop_cycle'].by_key()['color']\n",
    "plt.rcParams.update({'axes.grid':True,'grid.color':'black','grid.alpha':'0.25','grid.linestyle':'--'})\n",
    "plt.rcParams.update({'font.size': 14})\n",
    "\n",
    "# # Installs\n",
    "# ! pip install fredapi\n",
    "# ! pip install git+https://github.com/alemartinello/dstapi\n",
    "\n",
    "from dstapi import DstApi\n",
    "from fredapi import Fred\n",
    "\n",
    "from helpers import f # Acts up if letters are capitalized"
   ]
  },
  {
   "cell_type": "markdown",
   "metadata": {},
   "source": [
    "# Read and clean data"
   ]
  },
  {
   "cell_type": "markdown",
   "metadata": {},
   "source": [
    "Import your data, either through an API or manually, and load it. "
   ]
  },
  {
   "cell_type": "code",
   "execution_count": 48,
   "metadata": {},
   "outputs": [
    {
     "name": "stdout",
     "output_type": "stream",
     "text": [
      "Table PRIS113: Consumer price index by type and time\n",
      "Last update: 2025-10-10T08:00:00\n"
     ]
    },
    {
     "data": {
      "application/vnd.microsoft.datawrangler.viewer.v0+json": {
       "columns": [
        {
         "name": "index",
         "rawType": "int64",
         "type": "integer"
        },
        {
         "name": "variable name",
         "rawType": "object",
         "type": "string"
        },
        {
         "name": "# values",
         "rawType": "int64",
         "type": "integer"
        },
        {
         "name": "First value",
         "rawType": "object",
         "type": "string"
        },
        {
         "name": "First value label",
         "rawType": "object",
         "type": "string"
        },
        {
         "name": "Last value",
         "rawType": "object",
         "type": "string"
        },
        {
         "name": "Last value label",
         "rawType": "object",
         "type": "string"
        },
        {
         "name": "Time variable",
         "rawType": "bool",
         "type": "boolean"
        }
       ],
       "ref": "f7285248-8e3e-4b75-b914-db4f36c04e2e",
       "rows": [
        [
         "0",
         "TYPE",
         "1",
         "INDEKS",
         "Consumer price index",
         "INDEKS",
         "Consumer price index",
         "False"
        ],
        [
         "1",
         "Tid",
         "549",
         "1980M01",
         "1980M01",
         "2025M09",
         "2025M09",
         "True"
        ]
       ],
       "shape": {
        "columns": 7,
        "rows": 2
       }
      },
      "text/html": [
       "<div>\n",
       "<style scoped>\n",
       "    .dataframe tbody tr th:only-of-type {\n",
       "        vertical-align: middle;\n",
       "    }\n",
       "\n",
       "    .dataframe tbody tr th {\n",
       "        vertical-align: top;\n",
       "    }\n",
       "\n",
       "    .dataframe thead th {\n",
       "        text-align: right;\n",
       "    }\n",
       "</style>\n",
       "<table border=\"1\" class=\"dataframe\">\n",
       "  <thead>\n",
       "    <tr style=\"text-align: right;\">\n",
       "      <th></th>\n",
       "      <th>variable name</th>\n",
       "      <th># values</th>\n",
       "      <th>First value</th>\n",
       "      <th>First value label</th>\n",
       "      <th>Last value</th>\n",
       "      <th>Last value label</th>\n",
       "      <th>Time variable</th>\n",
       "    </tr>\n",
       "  </thead>\n",
       "  <tbody>\n",
       "    <tr>\n",
       "      <th>0</th>\n",
       "      <td>TYPE</td>\n",
       "      <td>1</td>\n",
       "      <td>INDEKS</td>\n",
       "      <td>Consumer price index</td>\n",
       "      <td>INDEKS</td>\n",
       "      <td>Consumer price index</td>\n",
       "      <td>False</td>\n",
       "    </tr>\n",
       "    <tr>\n",
       "      <th>1</th>\n",
       "      <td>Tid</td>\n",
       "      <td>549</td>\n",
       "      <td>1980M01</td>\n",
       "      <td>1980M01</td>\n",
       "      <td>2025M09</td>\n",
       "      <td>2025M09</td>\n",
       "      <td>True</td>\n",
       "    </tr>\n",
       "  </tbody>\n",
       "</table>\n",
       "</div>"
      ],
      "text/plain": [
       "  variable name  # values First value     First value label Last value  \\\n",
       "0          TYPE         1      INDEKS  Consumer price index     INDEKS   \n",
       "1           Tid       549     1980M01               1980M01    2025M09   \n",
       "\n",
       "       Last value label  Time variable  \n",
       "0  Consumer price index          False  \n",
       "1               2025M09           True  "
      ]
     },
     "execution_count": 48,
     "metadata": {},
     "output_type": "execute_result"
    }
   ],
   "source": [
    "PRIS113 = DstApi('PRIS113')\n",
    "PRIS113.tablesummary(language='en')\n"
   ]
  },
  {
   "cell_type": "code",
   "execution_count": 49,
   "metadata": {},
   "outputs": [
    {
     "data": {
      "application/vnd.microsoft.datawrangler.viewer.v0+json": {
       "columns": [
        {
         "name": "index",
         "rawType": "int64",
         "type": "integer"
        },
        {
         "name": "id",
         "rawType": "object",
         "type": "string"
        },
        {
         "name": "text",
         "rawType": "object",
         "type": "string"
        }
       ],
       "ref": "23a782b6-3bbe-433a-b4e7-f894d6f13726",
       "rows": [
        [
         "0",
         "1980M01",
         "1980M01"
        ],
        [
         "1",
         "1980M02",
         "1980M02"
        ],
        [
         "2",
         "1980M03",
         "1980M03"
        ],
        [
         "3",
         "1980M04",
         "1980M04"
        ],
        [
         "4",
         "1980M05",
         "1980M05"
        ],
        [
         "5",
         "1980M06",
         "1980M06"
        ],
        [
         "6",
         "1980M07",
         "1980M07"
        ],
        [
         "7",
         "1980M08",
         "1980M08"
        ],
        [
         "8",
         "1980M09",
         "1980M09"
        ],
        [
         "9",
         "1980M10",
         "1980M10"
        ],
        [
         "10",
         "1980M11",
         "1980M11"
        ],
        [
         "11",
         "1980M12",
         "1980M12"
        ],
        [
         "12",
         "1981M01",
         "1981M01"
        ],
        [
         "13",
         "1981M02",
         "1981M02"
        ],
        [
         "14",
         "1981M03",
         "1981M03"
        ],
        [
         "15",
         "1981M04",
         "1981M04"
        ],
        [
         "16",
         "1981M05",
         "1981M05"
        ],
        [
         "17",
         "1981M06",
         "1981M06"
        ],
        [
         "18",
         "1981M07",
         "1981M07"
        ],
        [
         "19",
         "1981M08",
         "1981M08"
        ],
        [
         "20",
         "1981M09",
         "1981M09"
        ],
        [
         "21",
         "1981M10",
         "1981M10"
        ],
        [
         "22",
         "1981M11",
         "1981M11"
        ],
        [
         "23",
         "1981M12",
         "1981M12"
        ],
        [
         "24",
         "1982M01",
         "1982M01"
        ],
        [
         "25",
         "1982M02",
         "1982M02"
        ],
        [
         "26",
         "1982M03",
         "1982M03"
        ],
        [
         "27",
         "1982M04",
         "1982M04"
        ],
        [
         "28",
         "1982M05",
         "1982M05"
        ],
        [
         "29",
         "1982M06",
         "1982M06"
        ],
        [
         "30",
         "1982M07",
         "1982M07"
        ],
        [
         "31",
         "1982M08",
         "1982M08"
        ],
        [
         "32",
         "1982M09",
         "1982M09"
        ],
        [
         "33",
         "1982M10",
         "1982M10"
        ],
        [
         "34",
         "1982M11",
         "1982M11"
        ],
        [
         "35",
         "1982M12",
         "1982M12"
        ],
        [
         "36",
         "1983M01",
         "1983M01"
        ],
        [
         "37",
         "1983M02",
         "1983M02"
        ],
        [
         "38",
         "1983M03",
         "1983M03"
        ],
        [
         "39",
         "1983M04",
         "1983M04"
        ],
        [
         "40",
         "1983M05",
         "1983M05"
        ],
        [
         "41",
         "1983M06",
         "1983M06"
        ],
        [
         "42",
         "1983M07",
         "1983M07"
        ],
        [
         "43",
         "1983M08",
         "1983M08"
        ],
        [
         "44",
         "1983M09",
         "1983M09"
        ],
        [
         "45",
         "1983M10",
         "1983M10"
        ],
        [
         "46",
         "1983M11",
         "1983M11"
        ],
        [
         "47",
         "1983M12",
         "1983M12"
        ],
        [
         "48",
         "1984M01",
         "1984M01"
        ],
        [
         "49",
         "1984M02",
         "1984M02"
        ]
       ],
       "shape": {
        "columns": 2,
        "rows": 549
       }
      },
      "text/html": [
       "<div>\n",
       "<style scoped>\n",
       "    .dataframe tbody tr th:only-of-type {\n",
       "        vertical-align: middle;\n",
       "    }\n",
       "\n",
       "    .dataframe tbody tr th {\n",
       "        vertical-align: top;\n",
       "    }\n",
       "\n",
       "    .dataframe thead th {\n",
       "        text-align: right;\n",
       "    }\n",
       "</style>\n",
       "<table border=\"1\" class=\"dataframe\">\n",
       "  <thead>\n",
       "    <tr style=\"text-align: right;\">\n",
       "      <th></th>\n",
       "      <th>id</th>\n",
       "      <th>text</th>\n",
       "    </tr>\n",
       "  </thead>\n",
       "  <tbody>\n",
       "    <tr>\n",
       "      <th>0</th>\n",
       "      <td>1980M01</td>\n",
       "      <td>1980M01</td>\n",
       "    </tr>\n",
       "    <tr>\n",
       "      <th>1</th>\n",
       "      <td>1980M02</td>\n",
       "      <td>1980M02</td>\n",
       "    </tr>\n",
       "    <tr>\n",
       "      <th>2</th>\n",
       "      <td>1980M03</td>\n",
       "      <td>1980M03</td>\n",
       "    </tr>\n",
       "    <tr>\n",
       "      <th>3</th>\n",
       "      <td>1980M04</td>\n",
       "      <td>1980M04</td>\n",
       "    </tr>\n",
       "    <tr>\n",
       "      <th>4</th>\n",
       "      <td>1980M05</td>\n",
       "      <td>1980M05</td>\n",
       "    </tr>\n",
       "    <tr>\n",
       "      <th>...</th>\n",
       "      <td>...</td>\n",
       "      <td>...</td>\n",
       "    </tr>\n",
       "    <tr>\n",
       "      <th>544</th>\n",
       "      <td>2025M05</td>\n",
       "      <td>2025M05</td>\n",
       "    </tr>\n",
       "    <tr>\n",
       "      <th>545</th>\n",
       "      <td>2025M06</td>\n",
       "      <td>2025M06</td>\n",
       "    </tr>\n",
       "    <tr>\n",
       "      <th>546</th>\n",
       "      <td>2025M07</td>\n",
       "      <td>2025M07</td>\n",
       "    </tr>\n",
       "    <tr>\n",
       "      <th>547</th>\n",
       "      <td>2025M08</td>\n",
       "      <td>2025M08</td>\n",
       "    </tr>\n",
       "    <tr>\n",
       "      <th>548</th>\n",
       "      <td>2025M09</td>\n",
       "      <td>2025M09</td>\n",
       "    </tr>\n",
       "  </tbody>\n",
       "</table>\n",
       "<p>549 rows × 2 columns</p>\n",
       "</div>"
      ],
      "text/plain": [
       "          id     text\n",
       "0    1980M01  1980M01\n",
       "1    1980M02  1980M02\n",
       "2    1980M03  1980M03\n",
       "3    1980M04  1980M04\n",
       "4    1980M05  1980M05\n",
       "..       ...      ...\n",
       "544  2025M05  2025M05\n",
       "545  2025M06  2025M06\n",
       "546  2025M07  2025M07\n",
       "547  2025M08  2025M08\n",
       "548  2025M09  2025M09\n",
       "\n",
       "[549 rows x 2 columns]"
      ]
     },
     "execution_count": 49,
     "metadata": {},
     "output_type": "execute_result"
    }
   ],
   "source": [
    "\n",
    "\n",
    "PRIS113.variable_levels('Tid',language='en')\n"
   ]
  },
  {
   "cell_type": "code",
   "execution_count": 50,
   "metadata": {},
   "outputs": [],
   "source": [
    "Y = pd.to_datetime(priser['TID'],format='%YM%m')"
   ]
  },
  {
   "cell_type": "code",
   "execution_count": 51,
   "metadata": {},
   "outputs": [
    {
     "data": {
      "application/vnd.microsoft.datawrangler.viewer.v0+json": {
       "columns": [
        {
         "name": "index",
         "rawType": "int64",
         "type": "integer"
        },
        {
         "name": "TYPE",
         "rawType": "object",
         "type": "string"
        },
        {
         "name": "TID",
         "rawType": "object",
         "type": "string"
        },
        {
         "name": "INDHOLD",
         "rawType": "object",
         "type": "string"
        }
       ],
       "ref": "f84ad792-ee0e-421e-8560-80b3833b5f2c",
       "rows": [
        [
         "0",
         "Consumer price index",
         "1980M01",
         "33.0"
        ],
        [
         "1",
         "Consumer price index",
         "1980M05",
         "34.5"
        ],
        [
         "2",
         "Consumer price index",
         "1980M09",
         "35.5"
        ],
        [
         "3",
         "Consumer price index",
         "1981M01",
         "36.5"
        ],
        [
         "4",
         "Consumer price index",
         "1981M05",
         "38.6"
        ]
       ],
       "shape": {
        "columns": 3,
        "rows": 5
       }
      },
      "text/html": [
       "<div>\n",
       "<style scoped>\n",
       "    .dataframe tbody tr th:only-of-type {\n",
       "        vertical-align: middle;\n",
       "    }\n",
       "\n",
       "    .dataframe tbody tr th {\n",
       "        vertical-align: top;\n",
       "    }\n",
       "\n",
       "    .dataframe thead th {\n",
       "        text-align: right;\n",
       "    }\n",
       "</style>\n",
       "<table border=\"1\" class=\"dataframe\">\n",
       "  <thead>\n",
       "    <tr style=\"text-align: right;\">\n",
       "      <th></th>\n",
       "      <th>TYPE</th>\n",
       "      <th>TID</th>\n",
       "      <th>INDHOLD</th>\n",
       "    </tr>\n",
       "  </thead>\n",
       "  <tbody>\n",
       "    <tr>\n",
       "      <th>0</th>\n",
       "      <td>Consumer price index</td>\n",
       "      <td>1980M01</td>\n",
       "      <td>33.0</td>\n",
       "    </tr>\n",
       "    <tr>\n",
       "      <th>1</th>\n",
       "      <td>Consumer price index</td>\n",
       "      <td>1980M05</td>\n",
       "      <td>34.5</td>\n",
       "    </tr>\n",
       "    <tr>\n",
       "      <th>2</th>\n",
       "      <td>Consumer price index</td>\n",
       "      <td>1980M09</td>\n",
       "      <td>35.5</td>\n",
       "    </tr>\n",
       "    <tr>\n",
       "      <th>3</th>\n",
       "      <td>Consumer price index</td>\n",
       "      <td>1981M01</td>\n",
       "      <td>36.5</td>\n",
       "    </tr>\n",
       "    <tr>\n",
       "      <th>4</th>\n",
       "      <td>Consumer price index</td>\n",
       "      <td>1981M05</td>\n",
       "      <td>38.6</td>\n",
       "    </tr>\n",
       "  </tbody>\n",
       "</table>\n",
       "</div>"
      ],
      "text/plain": [
       "                   TYPE      TID INDHOLD\n",
       "0  Consumer price index  1980M01    33.0\n",
       "1  Consumer price index  1980M05    34.5\n",
       "2  Consumer price index  1980M09    35.5\n",
       "3  Consumer price index  1981M01    36.5\n",
       "4  Consumer price index  1981M05    38.6"
      ]
     },
     "metadata": {},
     "output_type": "display_data"
    },
    {
     "name": "stdout",
     "output_type": "stream",
     "text": [
      "<class 'pandas.core.frame.DataFrame'>\n",
      "RangeIndex: 549 entries, 0 to 548\n",
      "Data columns (total 3 columns):\n",
      " #   Column   Non-Null Count  Dtype \n",
      "---  ------   --------------  ----- \n",
      " 0   TYPE     549 non-null    object\n",
      " 1   TID      549 non-null    object\n",
      " 2   INDHOLD  549 non-null    object\n",
      "dtypes: object(3)\n",
      "memory usage: 13.0+ KB\n"
     ]
    },
    {
     "data": {
      "text/plain": [
       "None"
      ]
     },
     "metadata": {},
     "output_type": "display_data"
    }
   ],
   "source": [
    "params = {\n",
    "    'table': 'PRIS113',\n",
    "    'format': 'BULK', # semicolon separated file\n",
    "    'lang': 'en',\n",
    "    'variables': [\n",
    "        {'code': 'TYPE', 'values': ['*']},\n",
    "        {'code': 'Tid', 'values': ['*']},\n",
    "        ]\n",
    "    }\n",
    "\n",
    "# b. download\n",
    "priser = PRIS113.get_data(params=params)\n",
    "\n",
    "\n",
    "# c. display\n",
    "display(priser.head())\n",
    "display(priser.info())\n"
   ]
  },
  {
   "cell_type": "markdown",
   "metadata": {},
   "source": [
    "# The consumer price index (CPI), Pt, indexed to 100 on average in 2020\n"
   ]
  },
  {
   "cell_type": "code",
   "execution_count": 52,
   "metadata": {},
   "outputs": [
    {
     "name": "stdout",
     "output_type": "stream",
     "text": [
      "Gennemsnitligt CPI i 2020: 103.43333333333332\n"
     ]
    }
   ],
   "source": [
    "# I transform 'INDHOLD' to numeric values\n",
    "\n",
    "priser['INDHOLD'] = pd.to_numeric(priser['INDHOLD'], errors='coerce')\n",
    "\n",
    "# I take the mean of CPI in 2020\n",
    "cpi_2020 = priser.loc[priser['TID'].str.contains('2020M'), 'INDHOLD'].mean()\n",
    "\n",
    "print(\"Gennemsnitligt CPI i 2020:\", cpi_2020)\n",
    "\n"
   ]
  },
  {
   "cell_type": "code",
   "execution_count": 53,
   "metadata": {},
   "outputs": [
    {
     "data": {
      "application/vnd.microsoft.datawrangler.viewer.v0+json": {
       "columns": [
        {
         "name": "index",
         "rawType": "int64",
         "type": "integer"
        },
        {
         "name": "TYPE",
         "rawType": "object",
         "type": "string"
        },
        {
         "name": "TID",
         "rawType": "object",
         "type": "string"
        },
        {
         "name": "INDHOLD",
         "rawType": "float64",
         "type": "float"
        },
        {
         "name": "CPI_indexed_2020",
         "rawType": "float64",
         "type": "float"
        }
       ],
       "ref": "44679914-7ad7-405a-8a05-d6cbc0bbcc7e",
       "rows": [
        [
         "0",
         "Consumer price index",
         "1980M01",
         "33.0",
         "31.904608443441834"
        ],
        [
         "1",
         "Consumer price index",
         "1980M05",
         "34.5",
         "33.35481791814374"
        ],
        [
         "2",
         "Consumer price index",
         "1980M09",
         "35.5",
         "34.32162423461167"
        ],
        [
         "3",
         "Consumer price index",
         "1981M01",
         "36.5",
         "35.2884305510796"
        ],
        [
         "4",
         "Consumer price index",
         "1981M05",
         "38.6",
         "37.31872381566227"
        ],
        [
         "5",
         "Consumer price index",
         "1981M09",
         "39.8",
         "38.47889139542379"
        ],
        [
         "6",
         "Consumer price index",
         "1982M01",
         "41.0",
         "39.63905897518531"
        ],
        [
         "7",
         "Consumer price index",
         "1982M05",
         "42.3",
         "40.895907186593625"
        ],
        [
         "8",
         "Consumer price index",
         "1982M09",
         "43.7",
         "42.249436029648734"
        ],
        [
         "9",
         "Consumer price index",
         "1983M01",
         "44.7",
         "43.216242346116665"
        ],
        [
         "10",
         "Consumer price index",
         "1983M05",
         "45.5",
         "43.989687399291014"
        ],
        [
         "11",
         "Consumer price index",
         "1983M09",
         "46.3",
         "44.763132452465356"
        ],
        [
         "12",
         "Consumer price index",
         "1984M01",
         "47.2",
         "45.633258137286504"
        ],
        [
         "13",
         "Consumer price index",
         "1984M05",
         "48.5",
         "46.890106348694815"
        ],
        [
         "14",
         "Consumer price index",
         "1984M09",
         "49.2",
         "47.56687077022237"
        ],
        [
         "15",
         "Consumer price index",
         "1985M01",
         "49.9",
         "48.243635191749924"
        ],
        [
         "16",
         "Consumer price index",
         "1985M05",
         "51.1",
         "49.403802771511444"
        ],
        [
         "17",
         "Consumer price index",
         "1985M09",
         "51.1",
         "49.403802771511444"
        ],
        [
         "18",
         "Consumer price index",
         "1986M01",
         "51.3",
         "49.59716403480503"
        ],
        [
         "19",
         "Consumer price index",
         "1986M05",
         "53.2",
         "51.43409603609411"
        ],
        [
         "20",
         "Consumer price index",
         "1986M09",
         "53.4",
         "51.62745729938769"
        ],
        [
         "21",
         "Consumer price index",
         "1987M01",
         "53.8",
         "52.01417982597486"
        ],
        [
         "22",
         "Consumer price index",
         "1987M05",
         "54.9",
         "53.07766677408959"
        ],
        [
         "23",
         "Consumer price index",
         "1987M09",
         "55.4",
         "53.561069932323555"
        ],
        [
         "24",
         "Consumer price index",
         "1988M01",
         "56.1",
         "54.23783435385112"
        ],
        [
         "25",
         "Consumer price index",
         "1988M05",
         "57.4",
         "55.49468256525943"
        ],
        [
         "26",
         "Consumer price index",
         "1988M09",
         "57.9",
         "55.9780857234934"
        ],
        [
         "27",
         "Consumer price index",
         "1989M01",
         "58.6",
         "56.65485014502095"
        ],
        [
         "28",
         "Consumer price index",
         "1989M05",
         "60.2",
         "58.20174025136965"
        ],
        [
         "29",
         "Consumer price index",
         "1989M09",
         "60.6",
         "58.58846277795682"
        ],
        [
         "30",
         "Consumer price index",
         "1990M01",
         "60.8",
         "58.78182404125041"
        ],
        [
         "31",
         "Consumer price index",
         "1990M05",
         "61.6",
         "59.55526909442476"
        ],
        [
         "32",
         "Consumer price index",
         "1990M09",
         "62.4",
         "60.32871414759911"
        ],
        [
         "33",
         "Consumer price index",
         "1991M01",
         "62.3",
         "60.23203351595231"
        ],
        [
         "34",
         "Consumer price index",
         "1991M05",
         "63.2",
         "61.10215920077346"
        ],
        [
         "35",
         "Consumer price index",
         "1991M09",
         "63.6",
         "61.48888172736062"
        ],
        [
         "36",
         "Consumer price index",
         "1992M01",
         "63.7",
         "61.58556235900742"
        ],
        [
         "37",
         "Consumer price index",
         "1992M05",
         "64.8",
         "62.64904930712214"
        ],
        [
         "38",
         "Consumer price index",
         "1992M09",
         "64.8",
         "62.64904930712214"
        ],
        [
         "39",
         "Consumer price index",
         "1993M01",
         "64.6",
         "62.45568804382855"
        ],
        [
         "40",
         "Consumer price index",
         "1993M05",
         "65.4",
         "63.22913309700291"
        ],
        [
         "41",
         "Consumer price index",
         "1993M09",
         "65.6",
         "63.42249436029649"
        ],
        [
         "42",
         "Consumer price index",
         "1994M01",
         "65.8",
         "63.61585562359008"
        ],
        [
         "43",
         "Consumer price index",
         "1994M05",
         "66.6",
         "64.38930067676442"
        ],
        [
         "44",
         "Consumer price index",
         "1994M09",
         "66.9",
         "64.67934257170481"
        ],
        [
         "45",
         "Consumer price index",
         "1995M01",
         "67.2",
         "64.96938446664518"
        ],
        [
         "46",
         "Consumer price index",
         "1995M05",
         "68.2",
         "65.93619078311312"
        ],
        [
         "47",
         "Consumer price index",
         "1995M09",
         "68.3",
         "66.03287141475991"
        ],
        [
         "48",
         "Consumer price index",
         "1996M01",
         "68.4",
         "66.12955204640672"
        ],
        [
         "49",
         "Consumer price index",
         "1996M05",
         "69.5",
         "67.19303899452143"
        ]
       ],
       "shape": {
        "columns": 4,
        "rows": 50
       }
      },
      "text/html": [
       "<div>\n",
       "<style scoped>\n",
       "    .dataframe tbody tr th:only-of-type {\n",
       "        vertical-align: middle;\n",
       "    }\n",
       "\n",
       "    .dataframe tbody tr th {\n",
       "        vertical-align: top;\n",
       "    }\n",
       "\n",
       "    .dataframe thead th {\n",
       "        text-align: right;\n",
       "    }\n",
       "</style>\n",
       "<table border=\"1\" class=\"dataframe\">\n",
       "  <thead>\n",
       "    <tr style=\"text-align: right;\">\n",
       "      <th></th>\n",
       "      <th>TYPE</th>\n",
       "      <th>TID</th>\n",
       "      <th>INDHOLD</th>\n",
       "      <th>CPI_indexed_2020</th>\n",
       "    </tr>\n",
       "  </thead>\n",
       "  <tbody>\n",
       "    <tr>\n",
       "      <th>0</th>\n",
       "      <td>Consumer price index</td>\n",
       "      <td>1980M01</td>\n",
       "      <td>33.0</td>\n",
       "      <td>31.904608</td>\n",
       "    </tr>\n",
       "    <tr>\n",
       "      <th>1</th>\n",
       "      <td>Consumer price index</td>\n",
       "      <td>1980M05</td>\n",
       "      <td>34.5</td>\n",
       "      <td>33.354818</td>\n",
       "    </tr>\n",
       "    <tr>\n",
       "      <th>2</th>\n",
       "      <td>Consumer price index</td>\n",
       "      <td>1980M09</td>\n",
       "      <td>35.5</td>\n",
       "      <td>34.321624</td>\n",
       "    </tr>\n",
       "    <tr>\n",
       "      <th>3</th>\n",
       "      <td>Consumer price index</td>\n",
       "      <td>1981M01</td>\n",
       "      <td>36.5</td>\n",
       "      <td>35.288431</td>\n",
       "    </tr>\n",
       "    <tr>\n",
       "      <th>4</th>\n",
       "      <td>Consumer price index</td>\n",
       "      <td>1981M05</td>\n",
       "      <td>38.6</td>\n",
       "      <td>37.318724</td>\n",
       "    </tr>\n",
       "    <tr>\n",
       "      <th>5</th>\n",
       "      <td>Consumer price index</td>\n",
       "      <td>1981M09</td>\n",
       "      <td>39.8</td>\n",
       "      <td>38.478891</td>\n",
       "    </tr>\n",
       "    <tr>\n",
       "      <th>6</th>\n",
       "      <td>Consumer price index</td>\n",
       "      <td>1982M01</td>\n",
       "      <td>41.0</td>\n",
       "      <td>39.639059</td>\n",
       "    </tr>\n",
       "    <tr>\n",
       "      <th>7</th>\n",
       "      <td>Consumer price index</td>\n",
       "      <td>1982M05</td>\n",
       "      <td>42.3</td>\n",
       "      <td>40.895907</td>\n",
       "    </tr>\n",
       "    <tr>\n",
       "      <th>8</th>\n",
       "      <td>Consumer price index</td>\n",
       "      <td>1982M09</td>\n",
       "      <td>43.7</td>\n",
       "      <td>42.249436</td>\n",
       "    </tr>\n",
       "    <tr>\n",
       "      <th>9</th>\n",
       "      <td>Consumer price index</td>\n",
       "      <td>1983M01</td>\n",
       "      <td>44.7</td>\n",
       "      <td>43.216242</td>\n",
       "    </tr>\n",
       "    <tr>\n",
       "      <th>10</th>\n",
       "      <td>Consumer price index</td>\n",
       "      <td>1983M05</td>\n",
       "      <td>45.5</td>\n",
       "      <td>43.989687</td>\n",
       "    </tr>\n",
       "    <tr>\n",
       "      <th>11</th>\n",
       "      <td>Consumer price index</td>\n",
       "      <td>1983M09</td>\n",
       "      <td>46.3</td>\n",
       "      <td>44.763132</td>\n",
       "    </tr>\n",
       "    <tr>\n",
       "      <th>12</th>\n",
       "      <td>Consumer price index</td>\n",
       "      <td>1984M01</td>\n",
       "      <td>47.2</td>\n",
       "      <td>45.633258</td>\n",
       "    </tr>\n",
       "    <tr>\n",
       "      <th>13</th>\n",
       "      <td>Consumer price index</td>\n",
       "      <td>1984M05</td>\n",
       "      <td>48.5</td>\n",
       "      <td>46.890106</td>\n",
       "    </tr>\n",
       "    <tr>\n",
       "      <th>14</th>\n",
       "      <td>Consumer price index</td>\n",
       "      <td>1984M09</td>\n",
       "      <td>49.2</td>\n",
       "      <td>47.566871</td>\n",
       "    </tr>\n",
       "    <tr>\n",
       "      <th>15</th>\n",
       "      <td>Consumer price index</td>\n",
       "      <td>1985M01</td>\n",
       "      <td>49.9</td>\n",
       "      <td>48.243635</td>\n",
       "    </tr>\n",
       "    <tr>\n",
       "      <th>16</th>\n",
       "      <td>Consumer price index</td>\n",
       "      <td>1985M05</td>\n",
       "      <td>51.1</td>\n",
       "      <td>49.403803</td>\n",
       "    </tr>\n",
       "    <tr>\n",
       "      <th>17</th>\n",
       "      <td>Consumer price index</td>\n",
       "      <td>1985M09</td>\n",
       "      <td>51.1</td>\n",
       "      <td>49.403803</td>\n",
       "    </tr>\n",
       "    <tr>\n",
       "      <th>18</th>\n",
       "      <td>Consumer price index</td>\n",
       "      <td>1986M01</td>\n",
       "      <td>51.3</td>\n",
       "      <td>49.597164</td>\n",
       "    </tr>\n",
       "    <tr>\n",
       "      <th>19</th>\n",
       "      <td>Consumer price index</td>\n",
       "      <td>1986M05</td>\n",
       "      <td>53.2</td>\n",
       "      <td>51.434096</td>\n",
       "    </tr>\n",
       "    <tr>\n",
       "      <th>20</th>\n",
       "      <td>Consumer price index</td>\n",
       "      <td>1986M09</td>\n",
       "      <td>53.4</td>\n",
       "      <td>51.627457</td>\n",
       "    </tr>\n",
       "    <tr>\n",
       "      <th>21</th>\n",
       "      <td>Consumer price index</td>\n",
       "      <td>1987M01</td>\n",
       "      <td>53.8</td>\n",
       "      <td>52.014180</td>\n",
       "    </tr>\n",
       "    <tr>\n",
       "      <th>22</th>\n",
       "      <td>Consumer price index</td>\n",
       "      <td>1987M05</td>\n",
       "      <td>54.9</td>\n",
       "      <td>53.077667</td>\n",
       "    </tr>\n",
       "    <tr>\n",
       "      <th>23</th>\n",
       "      <td>Consumer price index</td>\n",
       "      <td>1987M09</td>\n",
       "      <td>55.4</td>\n",
       "      <td>53.561070</td>\n",
       "    </tr>\n",
       "    <tr>\n",
       "      <th>24</th>\n",
       "      <td>Consumer price index</td>\n",
       "      <td>1988M01</td>\n",
       "      <td>56.1</td>\n",
       "      <td>54.237834</td>\n",
       "    </tr>\n",
       "    <tr>\n",
       "      <th>25</th>\n",
       "      <td>Consumer price index</td>\n",
       "      <td>1988M05</td>\n",
       "      <td>57.4</td>\n",
       "      <td>55.494683</td>\n",
       "    </tr>\n",
       "    <tr>\n",
       "      <th>26</th>\n",
       "      <td>Consumer price index</td>\n",
       "      <td>1988M09</td>\n",
       "      <td>57.9</td>\n",
       "      <td>55.978086</td>\n",
       "    </tr>\n",
       "    <tr>\n",
       "      <th>27</th>\n",
       "      <td>Consumer price index</td>\n",
       "      <td>1989M01</td>\n",
       "      <td>58.6</td>\n",
       "      <td>56.654850</td>\n",
       "    </tr>\n",
       "    <tr>\n",
       "      <th>28</th>\n",
       "      <td>Consumer price index</td>\n",
       "      <td>1989M05</td>\n",
       "      <td>60.2</td>\n",
       "      <td>58.201740</td>\n",
       "    </tr>\n",
       "    <tr>\n",
       "      <th>29</th>\n",
       "      <td>Consumer price index</td>\n",
       "      <td>1989M09</td>\n",
       "      <td>60.6</td>\n",
       "      <td>58.588463</td>\n",
       "    </tr>\n",
       "    <tr>\n",
       "      <th>30</th>\n",
       "      <td>Consumer price index</td>\n",
       "      <td>1990M01</td>\n",
       "      <td>60.8</td>\n",
       "      <td>58.781824</td>\n",
       "    </tr>\n",
       "    <tr>\n",
       "      <th>31</th>\n",
       "      <td>Consumer price index</td>\n",
       "      <td>1990M05</td>\n",
       "      <td>61.6</td>\n",
       "      <td>59.555269</td>\n",
       "    </tr>\n",
       "    <tr>\n",
       "      <th>32</th>\n",
       "      <td>Consumer price index</td>\n",
       "      <td>1990M09</td>\n",
       "      <td>62.4</td>\n",
       "      <td>60.328714</td>\n",
       "    </tr>\n",
       "    <tr>\n",
       "      <th>33</th>\n",
       "      <td>Consumer price index</td>\n",
       "      <td>1991M01</td>\n",
       "      <td>62.3</td>\n",
       "      <td>60.232034</td>\n",
       "    </tr>\n",
       "    <tr>\n",
       "      <th>34</th>\n",
       "      <td>Consumer price index</td>\n",
       "      <td>1991M05</td>\n",
       "      <td>63.2</td>\n",
       "      <td>61.102159</td>\n",
       "    </tr>\n",
       "    <tr>\n",
       "      <th>35</th>\n",
       "      <td>Consumer price index</td>\n",
       "      <td>1991M09</td>\n",
       "      <td>63.6</td>\n",
       "      <td>61.488882</td>\n",
       "    </tr>\n",
       "    <tr>\n",
       "      <th>36</th>\n",
       "      <td>Consumer price index</td>\n",
       "      <td>1992M01</td>\n",
       "      <td>63.7</td>\n",
       "      <td>61.585562</td>\n",
       "    </tr>\n",
       "    <tr>\n",
       "      <th>37</th>\n",
       "      <td>Consumer price index</td>\n",
       "      <td>1992M05</td>\n",
       "      <td>64.8</td>\n",
       "      <td>62.649049</td>\n",
       "    </tr>\n",
       "    <tr>\n",
       "      <th>38</th>\n",
       "      <td>Consumer price index</td>\n",
       "      <td>1992M09</td>\n",
       "      <td>64.8</td>\n",
       "      <td>62.649049</td>\n",
       "    </tr>\n",
       "    <tr>\n",
       "      <th>39</th>\n",
       "      <td>Consumer price index</td>\n",
       "      <td>1993M01</td>\n",
       "      <td>64.6</td>\n",
       "      <td>62.455688</td>\n",
       "    </tr>\n",
       "    <tr>\n",
       "      <th>40</th>\n",
       "      <td>Consumer price index</td>\n",
       "      <td>1993M05</td>\n",
       "      <td>65.4</td>\n",
       "      <td>63.229133</td>\n",
       "    </tr>\n",
       "    <tr>\n",
       "      <th>41</th>\n",
       "      <td>Consumer price index</td>\n",
       "      <td>1993M09</td>\n",
       "      <td>65.6</td>\n",
       "      <td>63.422494</td>\n",
       "    </tr>\n",
       "    <tr>\n",
       "      <th>42</th>\n",
       "      <td>Consumer price index</td>\n",
       "      <td>1994M01</td>\n",
       "      <td>65.8</td>\n",
       "      <td>63.615856</td>\n",
       "    </tr>\n",
       "    <tr>\n",
       "      <th>43</th>\n",
       "      <td>Consumer price index</td>\n",
       "      <td>1994M05</td>\n",
       "      <td>66.6</td>\n",
       "      <td>64.389301</td>\n",
       "    </tr>\n",
       "    <tr>\n",
       "      <th>44</th>\n",
       "      <td>Consumer price index</td>\n",
       "      <td>1994M09</td>\n",
       "      <td>66.9</td>\n",
       "      <td>64.679343</td>\n",
       "    </tr>\n",
       "    <tr>\n",
       "      <th>45</th>\n",
       "      <td>Consumer price index</td>\n",
       "      <td>1995M01</td>\n",
       "      <td>67.2</td>\n",
       "      <td>64.969384</td>\n",
       "    </tr>\n",
       "    <tr>\n",
       "      <th>46</th>\n",
       "      <td>Consumer price index</td>\n",
       "      <td>1995M05</td>\n",
       "      <td>68.2</td>\n",
       "      <td>65.936191</td>\n",
       "    </tr>\n",
       "    <tr>\n",
       "      <th>47</th>\n",
       "      <td>Consumer price index</td>\n",
       "      <td>1995M09</td>\n",
       "      <td>68.3</td>\n",
       "      <td>66.032871</td>\n",
       "    </tr>\n",
       "    <tr>\n",
       "      <th>48</th>\n",
       "      <td>Consumer price index</td>\n",
       "      <td>1996M01</td>\n",
       "      <td>68.4</td>\n",
       "      <td>66.129552</td>\n",
       "    </tr>\n",
       "    <tr>\n",
       "      <th>49</th>\n",
       "      <td>Consumer price index</td>\n",
       "      <td>1996M05</td>\n",
       "      <td>69.5</td>\n",
       "      <td>67.193039</td>\n",
       "    </tr>\n",
       "  </tbody>\n",
       "</table>\n",
       "</div>"
      ],
      "text/plain": [
       "                    TYPE      TID  INDHOLD  CPI_indexed_2020\n",
       "0   Consumer price index  1980M01     33.0         31.904608\n",
       "1   Consumer price index  1980M05     34.5         33.354818\n",
       "2   Consumer price index  1980M09     35.5         34.321624\n",
       "3   Consumer price index  1981M01     36.5         35.288431\n",
       "4   Consumer price index  1981M05     38.6         37.318724\n",
       "5   Consumer price index  1981M09     39.8         38.478891\n",
       "6   Consumer price index  1982M01     41.0         39.639059\n",
       "7   Consumer price index  1982M05     42.3         40.895907\n",
       "8   Consumer price index  1982M09     43.7         42.249436\n",
       "9   Consumer price index  1983M01     44.7         43.216242\n",
       "10  Consumer price index  1983M05     45.5         43.989687\n",
       "11  Consumer price index  1983M09     46.3         44.763132\n",
       "12  Consumer price index  1984M01     47.2         45.633258\n",
       "13  Consumer price index  1984M05     48.5         46.890106\n",
       "14  Consumer price index  1984M09     49.2         47.566871\n",
       "15  Consumer price index  1985M01     49.9         48.243635\n",
       "16  Consumer price index  1985M05     51.1         49.403803\n",
       "17  Consumer price index  1985M09     51.1         49.403803\n",
       "18  Consumer price index  1986M01     51.3         49.597164\n",
       "19  Consumer price index  1986M05     53.2         51.434096\n",
       "20  Consumer price index  1986M09     53.4         51.627457\n",
       "21  Consumer price index  1987M01     53.8         52.014180\n",
       "22  Consumer price index  1987M05     54.9         53.077667\n",
       "23  Consumer price index  1987M09     55.4         53.561070\n",
       "24  Consumer price index  1988M01     56.1         54.237834\n",
       "25  Consumer price index  1988M05     57.4         55.494683\n",
       "26  Consumer price index  1988M09     57.9         55.978086\n",
       "27  Consumer price index  1989M01     58.6         56.654850\n",
       "28  Consumer price index  1989M05     60.2         58.201740\n",
       "29  Consumer price index  1989M09     60.6         58.588463\n",
       "30  Consumer price index  1990M01     60.8         58.781824\n",
       "31  Consumer price index  1990M05     61.6         59.555269\n",
       "32  Consumer price index  1990M09     62.4         60.328714\n",
       "33  Consumer price index  1991M01     62.3         60.232034\n",
       "34  Consumer price index  1991M05     63.2         61.102159\n",
       "35  Consumer price index  1991M09     63.6         61.488882\n",
       "36  Consumer price index  1992M01     63.7         61.585562\n",
       "37  Consumer price index  1992M05     64.8         62.649049\n",
       "38  Consumer price index  1992M09     64.8         62.649049\n",
       "39  Consumer price index  1993M01     64.6         62.455688\n",
       "40  Consumer price index  1993M05     65.4         63.229133\n",
       "41  Consumer price index  1993M09     65.6         63.422494\n",
       "42  Consumer price index  1994M01     65.8         63.615856\n",
       "43  Consumer price index  1994M05     66.6         64.389301\n",
       "44  Consumer price index  1994M09     66.9         64.679343\n",
       "45  Consumer price index  1995M01     67.2         64.969384\n",
       "46  Consumer price index  1995M05     68.2         65.936191\n",
       "47  Consumer price index  1995M09     68.3         66.032871\n",
       "48  Consumer price index  1996M01     68.4         66.129552\n",
       "49  Consumer price index  1996M05     69.5         67.193039"
      ]
     },
     "metadata": {},
     "output_type": "display_data"
    }
   ],
   "source": [
    "#New col with all the values for the CPI indexed to 100 in 2020\n",
    "priser['CPI_indexed_2020'] = (priser['INDHOLD'] / cpi_2020) * 100                   \n",
    "display(priser.head(50))"
   ]
  },
  {
   "cell_type": "markdown",
   "metadata": {},
   "source": [
    "# The month-to-month inflation rate"
   ]
  },
  {
   "cell_type": "code",
   "execution_count": 54,
   "metadata": {},
   "outputs": [],
   "source": [
    "Y = pd.to_datetime(priser['TID'],format='%YM%m')"
   ]
  },
  {
   "cell_type": "code",
   "execution_count": 55,
   "metadata": {},
   "outputs": [
    {
     "data": {
      "application/vnd.microsoft.datawrangler.viewer.v0+json": {
       "columns": [
        {
         "name": "index",
         "rawType": "int64",
         "type": "integer"
        },
        {
         "name": "TID",
         "rawType": "datetime64[ns]",
         "type": "datetime"
        }
       ],
       "ref": "a12bf08e-1038-42ec-8abf-c4374c1d7091",
       "rows": [
        [
         "0",
         "1980-01-01 00:00:00"
        ],
        [
         "1",
         "1980-05-01 00:00:00"
        ],
        [
         "2",
         "1980-09-01 00:00:00"
        ],
        [
         "3",
         "1981-01-01 00:00:00"
        ],
        [
         "4",
         "1981-05-01 00:00:00"
        ],
        [
         "5",
         "1981-09-01 00:00:00"
        ],
        [
         "6",
         "1982-01-01 00:00:00"
        ],
        [
         "7",
         "1982-05-01 00:00:00"
        ],
        [
         "8",
         "1982-09-01 00:00:00"
        ],
        [
         "9",
         "1983-01-01 00:00:00"
        ],
        [
         "10",
         "1983-05-01 00:00:00"
        ],
        [
         "11",
         "1983-09-01 00:00:00"
        ],
        [
         "12",
         "1984-01-01 00:00:00"
        ],
        [
         "13",
         "1984-05-01 00:00:00"
        ],
        [
         "14",
         "1984-09-01 00:00:00"
        ],
        [
         "15",
         "1985-01-01 00:00:00"
        ],
        [
         "16",
         "1985-05-01 00:00:00"
        ],
        [
         "17",
         "1985-09-01 00:00:00"
        ],
        [
         "18",
         "1986-01-01 00:00:00"
        ],
        [
         "19",
         "1986-05-01 00:00:00"
        ],
        [
         "20",
         "1986-09-01 00:00:00"
        ],
        [
         "21",
         "1987-01-01 00:00:00"
        ],
        [
         "22",
         "1987-05-01 00:00:00"
        ],
        [
         "23",
         "1987-09-01 00:00:00"
        ],
        [
         "24",
         "1988-01-01 00:00:00"
        ],
        [
         "25",
         "1988-05-01 00:00:00"
        ],
        [
         "26",
         "1988-09-01 00:00:00"
        ],
        [
         "27",
         "1989-01-01 00:00:00"
        ],
        [
         "28",
         "1989-05-01 00:00:00"
        ],
        [
         "29",
         "1989-09-01 00:00:00"
        ],
        [
         "30",
         "1990-01-01 00:00:00"
        ],
        [
         "31",
         "1990-05-01 00:00:00"
        ],
        [
         "32",
         "1990-09-01 00:00:00"
        ],
        [
         "33",
         "1991-01-01 00:00:00"
        ],
        [
         "34",
         "1991-05-01 00:00:00"
        ],
        [
         "35",
         "1991-09-01 00:00:00"
        ],
        [
         "36",
         "1992-01-01 00:00:00"
        ],
        [
         "37",
         "1992-05-01 00:00:00"
        ],
        [
         "38",
         "1992-09-01 00:00:00"
        ],
        [
         "39",
         "1993-01-01 00:00:00"
        ],
        [
         "40",
         "1993-05-01 00:00:00"
        ],
        [
         "41",
         "1993-09-01 00:00:00"
        ],
        [
         "42",
         "1994-01-01 00:00:00"
        ],
        [
         "43",
         "1994-05-01 00:00:00"
        ],
        [
         "44",
         "1994-09-01 00:00:00"
        ],
        [
         "45",
         "1995-01-01 00:00:00"
        ],
        [
         "46",
         "1995-05-01 00:00:00"
        ],
        [
         "47",
         "1995-09-01 00:00:00"
        ],
        [
         "48",
         "1996-01-01 00:00:00"
        ],
        [
         "49",
         "1996-05-01 00:00:00"
        ]
       ],
       "shape": {
        "columns": 1,
        "rows": 549
       }
      },
      "text/plain": [
       "0     1980-01-01\n",
       "1     1980-05-01\n",
       "2     1980-09-01\n",
       "3     1981-01-01\n",
       "4     1981-05-01\n",
       "         ...    \n",
       "544   2018-12-01\n",
       "545   2020-03-01\n",
       "546   2022-05-01\n",
       "547   2023-01-01\n",
       "548   2023-12-01\n",
       "Name: TID, Length: 549, dtype: datetime64[ns]"
      ]
     },
     "metadata": {},
     "output_type": "display_data"
    }
   ],
   "source": [
    "display(Y)"
   ]
  },
  {
   "cell_type": "code",
   "execution_count": 59,
   "metadata": {},
   "outputs": [
    {
     "data": {
      "application/vnd.microsoft.datawrangler.viewer.v0+json": {
       "columns": [
        {
         "name": "index",
         "rawType": "int64",
         "type": "integer"
        },
        {
         "name": "CPI_indexed_2020",
         "rawType": "float64",
         "type": "float"
        }
       ],
       "ref": "ff8d907f-90e8-43b4-ab07-69813267683c",
       "rows": [
        [
         "0",
         null
        ],
        [
         "1",
         "4.545454545454541"
        ],
        [
         "2",
         "2.898550724637672"
        ],
        [
         "3",
         "2.8169014084507005"
        ],
        [
         "4",
         "5.753424657534256"
        ],
        [
         "5",
         "3.1088082901554293"
        ],
        [
         "6",
         "3.015075376884413"
        ],
        [
         "7",
         "3.170731707317076"
        ],
        [
         "8",
         "3.309692671394804"
        ],
        [
         "9",
         "2.2883295194507935"
        ],
        [
         "10",
         "1.7897091722595126"
        ],
        [
         "11",
         "1.758241758241752"
        ],
        [
         "12",
         "1.9438444924406273"
        ],
        [
         "13",
         "2.754237288135575"
        ],
        [
         "14",
         "1.443298969072182"
        ],
        [
         "15",
         "1.4227642276422703"
        ],
        [
         "16",
         "2.4048096192384794"
        ],
        [
         "17",
         "0.0"
        ],
        [
         "18",
         "0.391389432485334"
        ],
        [
         "19",
         "3.70370370370372"
        ],
        [
         "20",
         "0.3759398496240518"
        ],
        [
         "21",
         "0.7490636704119646"
        ],
        [
         "22",
         "2.0446096654275214"
        ],
        [
         "23",
         "0.9107468123861429"
        ],
        [
         "24",
         "1.263537906137202"
        ],
        [
         "25",
         "2.317290552584672"
        ],
        [
         "26",
         "0.8710801393728262"
        ],
        [
         "27",
         "1.2089810017271052"
        ],
        [
         "28",
         "2.7303754266211566"
        ],
        [
         "29",
         "0.6644518272425293"
        ],
        [
         "30",
         "0.3300330033003229"
        ],
        [
         "31",
         "1.3157894736842035"
        ],
        [
         "32",
         "1.2987012987013102"
        ],
        [
         "33",
         "-0.1602564102564208"
        ],
        [
         "34",
         "1.4446227929374"
        ],
        [
         "35",
         "0.6329113924050445"
        ],
        [
         "36",
         "0.15723270440253234"
        ],
        [
         "37",
         "1.7268445839874413"
        ],
        [
         "38",
         "0.0"
        ],
        [
         "39",
         "-0.30864197530864335"
        ],
        [
         "40",
         "1.2383900928792713"
        ],
        [
         "41",
         "0.3058103975535076"
        ],
        [
         "42",
         "0.3048780487804992"
        ],
        [
         "43",
         "1.2158054711246091"
        ],
        [
         "44",
         "0.45045045045046805"
        ],
        [
         "45",
         "0.4484304932735217"
        ],
        [
         "46",
         "1.488095238095255"
        ],
        [
         "47",
         "0.14662756598240456"
        ],
        [
         "48",
         "0.14641288433383526"
        ],
        [
         "49",
         "1.608187134502903"
        ]
       ],
       "shape": {
        "columns": 1,
        "rows": 549
       }
      },
      "text/plain": [
       "0            NaN\n",
       "1       4.545455\n",
       "2       2.898551\n",
       "3       2.816901\n",
       "4       5.753425\n",
       "         ...    \n",
       "544   -14.129521\n",
       "545     1.175318\n",
       "546     9.099710\n",
       "547     3.283052\n",
       "548     0.257732\n",
       "Name: CPI_indexed_2020, Length: 549, dtype: float64"
      ]
     },
     "metadata": {},
     "output_type": "display_data"
    }
   ],
   "source": [
    "pct_change = priser['CPI_indexed_2020'].pct_change()*100\n",
    "display(pct_change)"
   ]
  },
  {
   "cell_type": "code",
   "execution_count": 60,
   "metadata": {},
   "outputs": [
    {
     "data": {
      "application/vnd.microsoft.datawrangler.viewer.v0+json": {
       "columns": [
        {
         "name": "index",
         "rawType": "int64",
         "type": "integer"
        },
        {
         "name": "CPI_indexed_2020",
         "rawType": "float64",
         "type": "float"
        }
       ],
       "ref": "110ae6cb-494b-4cb2-b19b-ac331d37af95",
       "rows": [
        [
         "0",
         null
        ],
        [
         "1",
         null
        ],
        [
         "2",
         null
        ],
        [
         "3",
         null
        ],
        [
         "4",
         null
        ],
        [
         "5",
         null
        ],
        [
         "6",
         null
        ],
        [
         "7",
         null
        ],
        [
         "8",
         null
        ],
        [
         "9",
         null
        ],
        [
         "10",
         null
        ],
        [
         "11",
         null
        ],
        [
         "12",
         "43.03030303030304"
        ],
        [
         "13",
         "40.57971014492752"
        ],
        [
         "14",
         "38.59154929577466"
        ],
        [
         "15",
         "36.712328767123296"
        ],
        [
         "16",
         "32.38341968911915"
        ],
        [
         "17",
         "28.391959798994982"
        ],
        [
         "18",
         "25.121951219512194"
        ],
        [
         "19",
         "25.76832151300237"
        ],
        [
         "20",
         "22.196796338672755"
        ],
        [
         "21",
         "20.357941834451875"
        ],
        [
         "22",
         "20.659340659340653"
        ],
        [
         "23",
         "19.65442764578833"
        ],
        [
         "24",
         "18.855932203389834"
        ],
        [
         "25",
         "18.350515463917528"
        ],
        [
         "26",
         "17.682926829268286"
        ],
        [
         "27",
         "17.434869739478962"
        ],
        [
         "28",
         "17.808219178082197"
        ],
        [
         "29",
         "18.590998043052842"
        ],
        [
         "30",
         "18.518518518518512"
        ],
        [
         "31",
         "15.789473684210531"
        ],
        [
         "32",
         "16.853932584269682"
        ],
        [
         "33",
         "15.799256505576231"
        ],
        [
         "34",
         "15.118397085610225"
        ],
        [
         "35",
         "14.801444043321311"
        ],
        [
         "36",
         "13.547237076648845"
        ],
        [
         "37",
         "12.891986062717752"
        ],
        [
         "38",
         "11.917098445595853"
        ],
        [
         "39",
         "10.23890784982935"
        ],
        [
         "40",
         "8.637873754152814"
        ],
        [
         "41",
         "8.25082508250825"
        ],
        [
         "42",
         "8.223684210526304"
        ],
        [
         "43",
         "8.1168831168831"
        ],
        [
         "44",
         "7.211538461538458"
        ],
        [
         "45",
         "7.86516853932584"
        ],
        [
         "46",
         "7.911392405063267"
        ],
        [
         "47",
         "7.389937106918243"
        ],
        [
         "48",
         "7.378335949764536"
        ],
        [
         "49",
         "7.253086419753085"
        ]
       ],
       "shape": {
        "columns": 1,
        "rows": 549
       }
      },
      "text/plain": [
       "0            NaN\n",
       "1            NaN\n",
       "2            NaN\n",
       "3            NaN\n",
       "4            NaN\n",
       "         ...    \n",
       "544   -15.199336\n",
       "545     2.991027\n",
       "546    10.707269\n",
       "547    12.900097\n",
       "548    13.081395\n",
       "Name: CPI_indexed_2020, Length: 549, dtype: float64"
      ]
     },
     "metadata": {},
     "output_type": "display_data"
    }
   ],
   "source": [
    "pct_change_12m = priser['CPI_indexed_2020'].pct_change(periods=12)*100\n",
    "display(pct_change_12m)"
   ]
  },
  {
   "cell_type": "markdown",
   "metadata": {},
   "source": [
    "# Plots"
   ]
  },
  {
   "cell_type": "code",
   "execution_count": 62,
   "metadata": {},
   "outputs": [
    {
     "data": {
      "text/plain": [
       "[<matplotlib.lines.Line2D at 0x1e37c452ad0>]"
      ]
     },
     "execution_count": 62,
     "metadata": {},
     "output_type": "execute_result"
    },
    {
     "data": {
      "image/png": "[encoded data removed]",
      "text/plain": [
       "<Figure size 640x480 with 1 Axes>"
      ]
     },
     "metadata": {},
     "output_type": "display_data"
    }
   ],
   "source": [
    "plt.plot(Y, priser['CPI_indexed_2020'], label='CPI indexed to 2020', color=colors[0])\n"
   ]
  },
  {
   "cell_type": "code",
   "execution_count": 63,
   "metadata": {},
   "outputs": [
    {
     "name": "stdout",
     "output_type": "stream",
     "text": [
      "Rækker i df (efter clean): 549\n",
      "Datointerval: 1980-01-01 00:00:00 til 2025-09-01 00:00:00\n"
     ]
    },
    {
     "data": {
      "image/png": "[encoded data removed]",
      "text/plain": [
       "<Figure size 1200x500 with 1 Axes>"
      ]
     },
     "metadata": {},
     "output_type": "display_data"
    },
    {
     "name": "stdout",
     "output_type": "stream",
     "text": [
      "Eksempel - seneste månedlige inflation (%): date\n",
      "2025-05-01    0.083126\n",
      "2025-06-01    0.249169\n",
      "2025-07-01    1.491301\n",
      "2025-08-01   -0.653061\n",
      "2025-09-01   -0.082169\n"
     ]
    }
   ],
   "source": [
    "import re\n",
    "import pandas as pd\n",
    "import matplotlib.pyplot as plt\n",
    "import matplotlib.dates as mdates\n",
    "\n",
    "# Robust parsing af 'TID' til månedlig datetime (første i måneden)\n",
    "def tid_to_dt(s):\n",
    "    s = str(s).strip()\n",
    "    # Match år og måned uanset separator som 'M', '', '-', etc.\n",
    "    m = re.match(r'(\\d{4})\\D*?(\\d{1,2})', s)\n",
    "    if m:\n",
    "        y = int(m.group(1)); mo = int(m.group(2))\n",
    "        try:\n",
    "            return pd.Timestamp(year=y, month=mo, day=1)\n",
    "        except Exception:\n",
    "            return pd.NaT\n",
    "    return pd.NaT\n",
    "\n",
    "priser['date'] = priser['TID'].map(tid_to_dt)\n",
    "\n",
    "# Drop rækker uden gyldig dato eller uden CPI-værdi\n",
    "df = priser.dropna(subset=['date', 'CPI_indexed_2020']).copy()\n",
    "df = df.sort_values('date').set_index('date')\n",
    "\n",
    "# Hvis der stadig er få rækker, vis diagnostik\n",
    "print('Rækker i df (efter clean):', len(df))\n",
    "print('Datointerval:', df.index.min(), 'til', df.index.max())\n",
    "\n",
    "# Plot pænt med gode ticks og formatering\n",
    "plt.figure(figsize=(12,5))\n",
    "ax = plt.gca()\n",
    "ax.plot(df.index, df['CPI_indexed_2020'], lw=2, color=colors[0], alpha=0.9)\n",
    "ax.set_xlabel('Dato')\n",
    "ax.set_ylabel('CPI (2020 = 100)')\n",
    "ax.set_title('CPI over tid — indekseret til 2020')\n",
    "ax.grid(alpha=0.4)\n",
    "\n",
    "# Bedre dato-ticks\n",
    "locator = mdates.AutoDateLocator()\n",
    "formatter = mdates.ConciseDateFormatter(locator)\n",
    "ax.xaxis.set_major_locator(locator)\n",
    "ax.xaxis.set_major_formatter(formatter)\n",
    "\n",
    "plt.tight_layout()\n",
    "plt.show()\n",
    "\n",
    "# Optional: måned-til-måned inflation (%)\n",
    "pct_change = df['CPI_indexed_2020'].pct_change()*100\n",
    "print('Eksempel - seneste månedlige inflation (%):', pct_change.dropna().iloc[-5:].to_string())"
   ]
  },
  {
   "cell_type": "markdown",
   "metadata": {},
   "source": [
    "# Conclusion"
   ]
  },
  {
   "cell_type": "markdown",
   "metadata": {},
   "source": [
    "ADD CONCISE CONLUSION."
   ]
  }
 ],
 "metadata": {
  "kernelspec": {
   "display_name": "base",
   "language": "python",
   "name": "python3"
  },
  "language_info": {
   "codemirror_mode": {
    "name": "ipython",
    "version": 3
   },
   "file_extension": ".py",
   "mimetype": "text/x-python",
   "name": "python",
   "nbconvert_exporter": "python",
   "pygments_lexer": "ipython3",
   "version": "3.13.5"
  },
  "toc-autonumbering": true,
  "vscode": {
   "interpreter": {
    "hash": "47ef90cdf3004d3f859f1fb202523c65c07ba7c22eefd261b181f4744e2d0403"
   }
  }
 },
 "nbformat": 4,
 "nbformat_minor": 4
}
